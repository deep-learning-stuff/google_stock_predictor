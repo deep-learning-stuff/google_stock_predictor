{
 "cells": [
  {
   "cell_type": "markdown",
   "id": "58047a48-6371-457d-9b90-dd173bd7d39c",
   "metadata": {},
   "source": [
    "### Stock predictor of google actions\n",
    "First of all I will start but seeing the data"
   ]
  },
  {
   "cell_type": "code",
   "execution_count": 77,
   "id": "c8efd06a-cff5-45f8-b041-2f509aef5803",
   "metadata": {},
   "outputs": [],
   "source": [
    "import pandas as pd\n",
    "import matplotlib.pyplot as plt\n",
    "import numpy as np"
   ]
  },
  {
   "cell_type": "markdown",
   "id": "73107bfa-1e46-4199-a831-5a56eca9105c",
   "metadata": {},
   "source": [
    "#### Download the dataset from kaggle\n",
    "\n",
    "https://www.kaggle.com/datasets/adilshamim8/google-stocks-historical-data?resource=download"
   ]
  },
  {
   "cell_type": "code",
   "execution_count": 78,
   "id": "b219842a-6fdc-470e-b670-310e41df2b9a",
   "metadata": {},
   "outputs": [
    {
     "data": {
      "text/html": [
       "<div>\n",
       "<style scoped>\n",
       "    .dataframe tbody tr th:only-of-type {\n",
       "        vertical-align: middle;\n",
       "    }\n",
       "\n",
       "    .dataframe tbody tr th {\n",
       "        vertical-align: top;\n",
       "    }\n",
       "\n",
       "    .dataframe thead th {\n",
       "        text-align: right;\n",
       "    }\n",
       "</style>\n",
       "<table border=\"1\" class=\"dataframe\">\n",
       "  <thead>\n",
       "    <tr style=\"text-align: right;\">\n",
       "      <th></th>\n",
       "      <th>Date</th>\n",
       "      <th>Close</th>\n",
       "      <th>High</th>\n",
       "      <th>Low</th>\n",
       "      <th>Open</th>\n",
       "      <th>Volume</th>\n",
       "    </tr>\n",
       "  </thead>\n",
       "  <tbody>\n",
       "    <tr>\n",
       "      <th>0</th>\n",
       "      <td>2004-08-19</td>\n",
       "      <td>2.484366</td>\n",
       "      <td>2.576470</td>\n",
       "      <td>2.375919</td>\n",
       "      <td>2.475947</td>\n",
       "      <td>897427216</td>\n",
       "    </tr>\n",
       "    <tr>\n",
       "      <th>1</th>\n",
       "      <td>2004-08-20</td>\n",
       "      <td>2.681699</td>\n",
       "      <td>2.700763</td>\n",
       "      <td>2.488327</td>\n",
       "      <td>2.500954</td>\n",
       "      <td>458857488</td>\n",
       "    </tr>\n",
       "    <tr>\n",
       "      <th>2</th>\n",
       "      <td>2004-08-23</td>\n",
       "      <td>2.708686</td>\n",
       "      <td>2.809705</td>\n",
       "      <td>2.700021</td>\n",
       "      <td>2.742112</td>\n",
       "      <td>366857939</td>\n",
       "    </tr>\n",
       "    <tr>\n",
       "      <th>3</th>\n",
       "      <td>2004-08-24</td>\n",
       "      <td>2.596526</td>\n",
       "      <td>2.763156</td>\n",
       "      <td>2.564338</td>\n",
       "      <td>2.754243</td>\n",
       "      <td>306396159</td>\n",
       "    </tr>\n",
       "    <tr>\n",
       "      <th>4</th>\n",
       "      <td>2004-08-25</td>\n",
       "      <td>2.624504</td>\n",
       "      <td>2.674023</td>\n",
       "      <td>2.572014</td>\n",
       "      <td>2.598754</td>\n",
       "      <td>184645512</td>\n",
       "    </tr>\n",
       "    <tr>\n",
       "      <th>...</th>\n",
       "      <td>...</td>\n",
       "      <td>...</td>\n",
       "      <td>...</td>\n",
       "      <td>...</td>\n",
       "      <td>...</td>\n",
       "      <td>...</td>\n",
       "    </tr>\n",
       "    <tr>\n",
       "      <th>5231</th>\n",
       "      <td>2025-06-04</td>\n",
       "      <td>169.186630</td>\n",
       "      <td>169.376405</td>\n",
       "      <td>167.593544</td>\n",
       "      <td>168.077962</td>\n",
       "      <td>18508700</td>\n",
       "    </tr>\n",
       "    <tr>\n",
       "      <th>5232</th>\n",
       "      <td>2025-06-05</td>\n",
       "      <td>169.606125</td>\n",
       "      <td>172.153066</td>\n",
       "      <td>169.146686</td>\n",
       "      <td>171.413949</td>\n",
       "      <td>25375400</td>\n",
       "    </tr>\n",
       "    <tr>\n",
       "      <th>5233</th>\n",
       "      <td>2025-06-06</td>\n",
       "      <td>174.709991</td>\n",
       "      <td>175.618903</td>\n",
       "      <td>172.093142</td>\n",
       "      <td>172.093142</td>\n",
       "      <td>22258100</td>\n",
       "    </tr>\n",
       "    <tr>\n",
       "      <th>5234</th>\n",
       "      <td>2025-06-09</td>\n",
       "      <td>177.630005</td>\n",
       "      <td>177.914993</td>\n",
       "      <td>175.660004</td>\n",
       "      <td>175.869995</td>\n",
       "      <td>18817600</td>\n",
       "    </tr>\n",
       "    <tr>\n",
       "      <th>5235</th>\n",
       "      <td>2025-06-10</td>\n",
       "      <td>180.009995</td>\n",
       "      <td>182.445007</td>\n",
       "      <td>176.475006</td>\n",
       "      <td>177.759995</td>\n",
       "      <td>32878200</td>\n",
       "    </tr>\n",
       "  </tbody>\n",
       "</table>\n",
       "<p>5236 rows × 6 columns</p>\n",
       "</div>"
      ],
      "text/plain": [
       "            Date       Close        High         Low        Open     Volume\n",
       "0     2004-08-19    2.484366    2.576470    2.375919    2.475947  897427216\n",
       "1     2004-08-20    2.681699    2.700763    2.488327    2.500954  458857488\n",
       "2     2004-08-23    2.708686    2.809705    2.700021    2.742112  366857939\n",
       "3     2004-08-24    2.596526    2.763156    2.564338    2.754243  306396159\n",
       "4     2004-08-25    2.624504    2.674023    2.572014    2.598754  184645512\n",
       "...          ...         ...         ...         ...         ...        ...\n",
       "5231  2025-06-04  169.186630  169.376405  167.593544  168.077962   18508700\n",
       "5232  2025-06-05  169.606125  172.153066  169.146686  171.413949   25375400\n",
       "5233  2025-06-06  174.709991  175.618903  172.093142  172.093142   22258100\n",
       "5234  2025-06-09  177.630005  177.914993  175.660004  175.869995   18817600\n",
       "5235  2025-06-10  180.009995  182.445007  176.475006  177.759995   32878200\n",
       "\n",
       "[5236 rows x 6 columns]"
      ]
     },
     "execution_count": 78,
     "metadata": {},
     "output_type": "execute_result"
    }
   ],
   "source": [
    "dataset = pd.read_csv(\"./data/Google_stock_data.csv\")\n",
    "dataset"
   ]
  },
  {
   "cell_type": "code",
   "execution_count": 4,
   "id": "8bcae35a-c221-4ed5-8000-2464cc812af0",
   "metadata": {},
   "outputs": [
    {
     "data": {
      "image/png": "[encoded data removed]",
      "text/plain": [
       "<Figure size 640x480 with 1 Axes>"
      ]
     },
     "metadata": {},
     "output_type": "display_data"
    }
   ],
   "source": [
    "#Data for the line chart\n",
    "%matplotlib inline\n",
    "\n",
    "dates = pd.to_datetime(dataset.iloc[:, 0]) # X-axis values\n",
    "price_stock = dataset.iloc[:, 1]  # Y-axis values\n",
    "\n",
    "# Create the line chart\n",
    "plt.plot(dates, price_stock, label='Line 1', color='blue')\n",
    "\n",
    "# Add labels and title\n",
    "plt.xlabel('Dates')\n",
    "plt.ylabel('stock close price')\n",
    "plt.title('google stock price along time')\n",
    "\n",
    "# Add a legend\n",
    "plt.legend()\n",
    "\n",
    "# Show the chart\n",
    "plt.show()\n"
   ]
  },
  {
   "cell_type": "markdown",
   "id": "3cc1b782-95e1-4f03-a48a-050b09ffd7f5",
   "metadata": {},
   "source": [
    "#### Taking into account what type of data we have we can try a lot of combinations for making predictions"
   ]
  },
  {
   "cell_type": "code",
   "execution_count": 5,
   "id": "f9798205-b025-43ab-970b-ec6ba9b7f779",
   "metadata": {
    "editable": true,
    "slideshow": {
     "slide_type": ""
    },
    "tags": []
   },
   "outputs": [
    {
     "data": {
      "text/html": [
       "<div>\n",
       "<style scoped>\n",
       "    .dataframe tbody tr th:only-of-type {\n",
       "        vertical-align: middle;\n",
       "    }\n",
       "\n",
       "    .dataframe tbody tr th {\n",
       "        vertical-align: top;\n",
       "    }\n",
       "\n",
       "    .dataframe thead th {\n",
       "        text-align: right;\n",
       "    }\n",
       "</style>\n",
       "<table border=\"1\" class=\"dataframe\">\n",
       "  <thead>\n",
       "    <tr style=\"text-align: right;\">\n",
       "      <th></th>\n",
       "      <th>Date</th>\n",
       "      <th>Close</th>\n",
       "    </tr>\n",
       "  </thead>\n",
       "  <tbody>\n",
       "    <tr>\n",
       "      <th>0</th>\n",
       "      <td>2004-08-19</td>\n",
       "      <td>2.484366</td>\n",
       "    </tr>\n",
       "    <tr>\n",
       "      <th>1</th>\n",
       "      <td>2004-08-20</td>\n",
       "      <td>2.681699</td>\n",
       "    </tr>\n",
       "    <tr>\n",
       "      <th>2</th>\n",
       "      <td>2004-08-23</td>\n",
       "      <td>2.708686</td>\n",
       "    </tr>\n",
       "    <tr>\n",
       "      <th>3</th>\n",
       "      <td>2004-08-24</td>\n",
       "      <td>2.596526</td>\n",
       "    </tr>\n",
       "    <tr>\n",
       "      <th>4</th>\n",
       "      <td>2004-08-25</td>\n",
       "      <td>2.624504</td>\n",
       "    </tr>\n",
       "  </tbody>\n",
       "</table>\n",
       "</div>"
      ],
      "text/plain": [
       "         Date     Close\n",
       "0  2004-08-19  2.484366\n",
       "1  2004-08-20  2.681699\n",
       "2  2004-08-23  2.708686\n",
       "3  2004-08-24  2.596526\n",
       "4  2004-08-25  2.624504"
      ]
     },
     "execution_count": 5,
     "metadata": {},
     "output_type": "execute_result"
    }
   ],
   "source": [
    "#dataset = dataset.iloc[:, 0:2]\n",
    "dataset.head()"
   ]
  },
  {
   "cell_type": "markdown",
   "id": "204b90f2-84fe-45c1-a884-7a2c3b90f644",
   "metadata": {},
   "source": [
    "### Preparing the data\n",
    "\n",
    "* firstly make the correlative sequences \n",
    "* secondly it takes into account that all are the same size\n",
    "* if is shorter is filled with zeros\n",
    "* if is bigger is deleted the extra part\n",
    "\n",
    "#### the seq_len parameter is the size of the window that it will be passed to the network to study \n",
    "such as these situation is stocks and the info is daily the window taken is one month\n",
    "\n",
    "#### If we want to filiter the paramenterst that enter to the network it have to be done before executing the preprare_data function "
   ]
  },
  {
   "cell_type": "code",
   "execution_count": 79,
   "id": "01b1c790-6eb9-4d16-b8fd-cf1e02c8cefb",
   "metadata": {},
   "outputs": [],
   "source": [
    "seq_len = 30"
   ]
  },
  {
   "cell_type": "code",
   "execution_count": 204,
   "id": "13b3f0d2-684e-4180-ad75-067573b42812",
   "metadata": {},
   "outputs": [],
   "source": [
    "def prepare_data(dataset, seq_len):\n",
    "    X_train = []\n",
    "    y_train = []\n",
    "\n",
    "    \n",
    "    for i in range(len(dataset)):\n",
    "    #for i in range(30):\n",
    "        column_operated = []\n",
    "        if i < seq_len: # fills with zeros\n",
    "            for c in range(len(dataset.columns) - 1 ):\n",
    "                column_operated.append(\n",
    "                        np.concatenate(([0] * (seq_len - i - 1), np.array(dataset.iloc[:(i+1), (c+1)])))\n",
    "                )\n",
    "                \n",
    "            X_train.append(np.array(column_operated)) \n",
    "\n",
    "        else: # this eliminates the extre values\n",
    "            for c in range(len(dataset.columns) -1):\n",
    "                column_operated.append(\n",
    "                    dataset.iloc[i-30:i, (c+1)].values\n",
    "                )\n",
    "            \n",
    "            X_train.append(column_operated)\n",
    "\n",
    "        y_train.append(dataset.iloc[i, 1:])\n",
    "\n",
    "    #return X_train, y_train\n",
    "    return np.array(X_train), np.array(y_train)\n",
    "        \n",
    "    "
   ]
  },
  {
   "cell_type": "code",
   "execution_count": 45,
   "id": "5cd297db-6159-442d-b869-0315acb0f9b4",
   "metadata": {},
   "outputs": [],
   "source": [
    "def prepare_data(dataset, seq_len):\n",
    "    X_train = []\n",
    "    y_train = []\n",
    "    \n",
    "    for i in range(len(dataset)-seq_len):\n",
    "        \n",
    "        X_train.append(dataset.iloc[i:(i+seq_len), 1:])\n",
    "        y_train.append(dataset.iloc[i, 1:])\n",
    "\n",
    "    return np.array(X_train), np.array(y_train)\n",
    "        \n",
    "    "
   ]
  },
  {
   "cell_type": "code",
   "execution_count": 205,
   "id": "ba98d496-4f22-41e2-add7-4c1f9b43e9f4",
   "metadata": {},
   "outputs": [],
   "source": [
    "X_train, y_train = prepare_data(dataset, seq_len)"
   ]
  }
 ],
 "metadata": {
  "kernelspec": {
   "display_name": "Python 3 (ipykernel)",
   "language": "python",
   "name": "python3"
  },
  "language_info": {
   "codemirror_mode": {
    "name": "ipython",
    "version": 3
   },
   "file_extension": ".py",
   "mimetype": "text/x-python",
   "name": "python",
   "nbconvert_exporter": "python",
   "pygments_lexer": "ipython3",
   "version": "3.13.5"
  }
 },
 "nbformat": 4,
 "nbformat_minor": 5
}
